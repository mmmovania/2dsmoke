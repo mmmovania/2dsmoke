{
  "nbformat": 4,
  "nbformat_minor": 0,
  "metadata": {
    "colab": {
      "name": "CUDA_DynamicParallelism.ipynb",
      "provenance": [],
      "collapsed_sections": [],
      "include_colab_link": true
    },
    "kernelspec": {
      "name": "python3",
      "display_name": "Python 3"
    },
    "language_info": {
      "name": "python"
    },
    "accelerator": "GPU"
  },
  "cells": [
    {
      "cell_type": "markdown",
      "metadata": {
        "id": "view-in-github",
        "colab_type": "text"
      },
      "source": [
        "<a href=\"https://colab.research.google.com/github/mmmovania/2dsmoke/blob/master/Week12/CUDA_DynamicParallelism.ipynb\" target=\"_parent\"><img src=\"https://colab.research.google.com/assets/colab-badge.svg\" alt=\"Open In Colab\"/></a>"
      ]
    },
    {
      "cell_type": "code",
      "execution_count": 2,
      "metadata": {
        "colab": {
          "base_uri": "https://localhost:8080/"
        },
        "id": "OB2MY3st-VUm",
        "outputId": "46f4432c-9670-46ba-b29d-6de04a89c7e0"
      },
      "outputs": [
        {
          "output_type": "stream",
          "name": "stdout",
          "text": [
            "/usr/local\n",
            "  File: cuda -> /usr/local/cuda-10.1\n",
            "  Size: 20        \tBlocks: 0          IO Block: 4096   symbolic link\n",
            "Device: 23h/35d\tInode: 82          Links: 1\n",
            "Access: (0777/lrwxrwxrwx)  Uid: (    0/    root)   Gid: (    0/    root)\n",
            "Access: 2022-04-06 09:14:03.915133239 +0000\n",
            "Modify: 2022-04-06 09:14:03.806133512 +0000\n",
            "Change: 2022-04-06 09:14:03.806133512 +0000\n",
            " Birth: -\n",
            "Collecting git+https://github.com/andreinechaev/nvcc4jupyter.git\n",
            "  Cloning https://github.com/andreinechaev/nvcc4jupyter.git to /tmp/pip-req-build-dw832sw9\n",
            "  Running command git clone -q https://github.com/andreinechaev/nvcc4jupyter.git /tmp/pip-req-build-dw832sw9\n",
            "Building wheels for collected packages: NVCCPlugin\n",
            "  Building wheel for NVCCPlugin (setup.py) ... \u001b[?25l\u001b[?25hdone\n",
            "  Created wheel for NVCCPlugin: filename=NVCCPlugin-0.0.2-py3-none-any.whl size=4306 sha256=f71b3faee3e26cc74b7bb1bd82b4b330847708a24d1765a099ac25ced979bfee\n",
            "  Stored in directory: /tmp/pip-ephem-wheel-cache-gsi_xjaj/wheels/ca/33/8d/3c86eb85e97d2b6169d95c6e8f2c297fdec60db6e84cb56f5e\n",
            "Successfully built NVCCPlugin\n",
            "Installing collected packages: NVCCPlugin\n",
            "Successfully installed NVCCPlugin-0.0.2\n",
            "directory /usr/local/src already exists\n",
            "Out bin /usr/local/result.out\n"
          ]
        }
      ],
      "source": [
        "%cd /usr/local/\n",
        "!rm -rf cuda\n",
        "!ln -s /usr/local/cuda-10.1 /usr/local/cuda\n",
        "!stat cuda\n",
        "!pip install git+https://github.com/andreinechaev/nvcc4jupyter.git\n",
        "%load_ext nvcc_plugin"
      ]
    },
    {
      "cell_type": "code",
      "source": [
        "%%cu\n",
        "\n",
        "//this example wont work on Colab GPU since the required compute capability for \n",
        "//kernel launch from another kernel is compute capability 3.5\n",
        "\n",
        "#include <stdio.h>\n",
        "const int N = 100;//33 * 1024;\n",
        "const int threadsPerBlock = 32;// 256;\n",
        "\n",
        "#define imin(a,b) (a<b?a:b)\n",
        "\n",
        "const int blocksPerGrid =  imin( 32, (N+threadsPerBlock-1) / threadsPerBlock );\n",
        "\n",
        "inline cudaError_t checkCudaErr(cudaError_t err, const char* msg) {\n",
        "\tif (err != cudaSuccess) {\n",
        "\t\tfprintf(stderr, \"CUDA Runtime error at %s: %s\\n\", msg, cudaGetErrorString(err));\n",
        "\t}\n",
        "\treturn err;\n",
        "}\n",
        "\n",
        "__global__ void kernel( float *a, float *b, int N ) \n",
        "{\n",
        "\tint i = threadIdx.x + blockDim.x*blockIdx.x;\n",
        "\tif(i < N)\n",
        "\t{\n",
        "\t\t\tfor(int j=i; j< min(i+5, N); j++)\n",
        "\t\t\t{\n",
        "\t\t\t\t\tb[i] += a[j];\n",
        "\t\t\t}\n",
        "\t}\n",
        "}\n",
        "\n",
        "__global__ void kernel_child(int start, int end, float *a, float *b) \n",
        "{\n",
        "\tint j = start + threadIdx.x + blockDim.x*blockIdx.x;\n",
        "\tif(j < end)\n",
        "\t{\n",
        "\t\t\tb[j] += a[j];\t\t\t\n",
        "\t}\n",
        "}\n",
        "\n",
        "__global__ void kernel_parent( float *a, float *b, int end ) \n",
        "{\n",
        "\tint i = threadIdx.x + blockDim.x*blockIdx.x;\n",
        "\n",
        "\tb[i] = a[i];\t\n",
        "\tkernel_child<<<1, 32>>>(i, min(i+5, end), a, b);\t\t\t \n",
        "}\n",
        "\n",
        "\n",
        "\n",
        "int main() \n",
        "{ \n",
        "\tfloat   *a = 0; \n",
        "  float   *b = 0;\n",
        "\tfloat   *c = 0;\n",
        "\n",
        "\t// Allocate Unified Memory -- accessible from CPU or GPU\n",
        "\tcheckCudaErr(cudaMallocManaged(&a, N*sizeof(float)), \"cudaMallocManaged1\");\n",
        "\tcheckCudaErr(cudaMallocManaged(&b, N*sizeof(float)), \"cudaMallocManaged2\"); \n",
        "\tcheckCudaErr(cudaMallocManaged(&c, N*sizeof(float)), \"cudaMallocManaged3\"); \n",
        "\n",
        "\t// fill in the memory with data\n",
        "\tfor (int i=0; i<N; i++) {\n",
        "\t\ta[i] = i+1; \n",
        "\t\tb[i] = 0;\n",
        "\t\tc[i] = 0;\n",
        "\t} \n",
        "\n",
        "\tkernel<<<blocksPerGrid,threadsPerBlock>>>( a, b, N );\n",
        "\n",
        "\tcudaDeviceSynchronize();\n",
        "\n",
        "\tkernel_parent<<<blocksPerGrid,threadsPerBlock>>>( a, b, N );\n",
        "  \n",
        "\tfor(int i=0; i<N;++i)\n",
        "\t\tprintf(\"%f\\n\", b[i]);\n",
        "\t\n",
        "\t// free memory on the gpu side\n",
        "\tcheckCudaErr( cudaFree( a ) , \"cudaFree1\");\n",
        "\tcheckCudaErr( cudaFree( b ) , \"cudaFree2\"); \n",
        "\tcheckCudaErr( cudaFree( c ) , \"cudaFree3\"); \n",
        "\tcheckCudaErr( cudaDeviceReset(), \"cudaDeviceReset\");\n",
        "\n",
        "\treturn 0;\n",
        "}"
      ],
      "metadata": {
        "colab": {
          "base_uri": "https://localhost:8080/"
        },
        "id": "GYZ627HO-XKd",
        "outputId": "034c906a-5ad0-4c5d-9fea-c86ba507d6d4"
      },
      "execution_count": 12,
      "outputs": [
        {
          "output_type": "stream",
          "name": "stdout",
          "text": [
            "/tmp/tmpk8633i3c/b77ace81-d6a5-4843-bd1c-c6a9444890a1.cu(46): error: calling a __global__ function(\"kernel_child\") from a __global__ function(\"kernel_parent\") is only allowed on the compute_35 architecture or above\n",
            "\n",
            "1 error detected in the compilation of \"/tmp/tmpxft_0000023a_00000000-8_b77ace81-d6a5-4843-bd1c-c6a9444890a1.cpp1.ii\".\n",
            "\n"
          ]
        }
      ]
    }
  ]
}